{
 "cells": [
  {
   "cell_type": "markdown",
   "metadata": {},
   "source": [
    "#### Python Memory Management\n",
    "Memory management in Python involves a combination of automatic garbage collection, reference counting, and various internal optimizations to efficiently manage memory allocation and deallocation. Understanding these mechanisms can help developers write more efficient and robust applications.\n",
    "\n",
    "1. Key Concepts in Python Memory Management\n",
    "2. Memory Allocation and Deallocation\n",
    "3. Reference Counting\n",
    "4. Garbage Collection\n",
    "5. The gc Module\n",
    "6. Memory Management Best Practices"
   ]
  },
  {
   "cell_type": "markdown",
   "metadata": {},
   "source": [
    "#### Reference Counting\n",
    "Reference counting is the primary method Python uses to manage memory. Each object in Python maintains a count of references pointing to it. When the reference count drops to zero, the memory occupied by the object is deallocated."
   ]
  },
  {
   "cell_type": "code",
   "execution_count": 1,
   "metadata": {},
   "outputs": [
    {
     "name": "stdout",
     "output_type": "stream",
     "text": [
      "2\n"
     ]
    }
   ],
   "source": [
    "import sys\n",
    "\n",
    "a=[]\n",
    "## 2 (one reference from 'a' and one from getrefcount())\n",
    "print(sys.getrefcount(a))"
   ]
  },
  {
   "cell_type": "code",
   "execution_count": 2,
   "metadata": {},
   "outputs": [
    {
     "name": "stdout",
     "output_type": "stream",
     "text": [
      "3\n"
     ]
    }
   ],
   "source": [
    "b=a\n",
    "print(sys.getrefcount(b))"
   ]
  },
  {
   "cell_type": "code",
   "execution_count": 5,
   "metadata": {},
   "outputs": [
    {
     "name": "stdout",
     "output_type": "stream",
     "text": [
      "2\n"
     ]
    }
   ],
   "source": [
    "del b\n",
    "print(sys.getrefcount(a))"
   ]
  },
  {
   "cell_type": "markdown",
   "metadata": {},
   "source": [
    "#### Garbage Collection\n",
    "Python includes a cyclic garbage collector to handle reference cycles. Reference cycles occur when objects reference each other, preventing their reference counts from reaching zero."
   ]
  },
  {
   "cell_type": "code",
   "execution_count": 1,
   "metadata": {},
   "outputs": [],
   "source": [
    "import gc\n",
    "# enable garbage collection\n",
    "gc.enable()\n",
    "\n"
   ]
  },
  {
   "cell_type": "code",
   "execution_count": 2,
   "metadata": {},
   "outputs": [],
   "source": [
    "gc.disable()"
   ]
  },
  {
   "cell_type": "code",
   "execution_count": 3,
   "metadata": {},
   "outputs": [
    {
     "data": {
      "text/plain": [
       "15"
      ]
     },
     "execution_count": 3,
     "metadata": {},
     "output_type": "execute_result"
    }
   ],
   "source": [
    "gc.collect()"
   ]
  },
  {
   "cell_type": "code",
   "execution_count": 4,
   "metadata": {},
   "outputs": [
    {
     "name": "stdout",
     "output_type": "stream",
     "text": [
      "[{'collections': 194, 'collected': 1684, 'uncollectable': 0}, {'collections': 17, 'collected': 523, 'uncollectable': 0}, {'collections': 2, 'collected': 33, 'uncollectable': 0}]\n"
     ]
    }
   ],
   "source": [
    "# Get garbage collection stats\n",
    "print(gc.get_stats())"
   ]
  },
  {
   "cell_type": "code",
   "execution_count": 5,
   "metadata": {},
   "outputs": [
    {
     "name": "stdout",
     "output_type": "stream",
     "text": [
      "[]\n"
     ]
    }
   ],
   "source": [
    "# get unreachable objects\n",
    "print(gc.garbage)"
   ]
  },
  {
   "cell_type": "markdown",
   "metadata": {},
   "source": [
    "####  Memory Management Best Practices\n",
    "1. Use Local Variables: Local variables have a shorter lifespan and are freed sooner than global variables.\n",
    "2. Avoid Circular References: Circular references can lead to memory leaks if not properly managed.\n",
    "3. Use Generators: Generators produce items one at a time and only keep one item in memory at a time, making them memory efficient.\n",
    "4. Explicitly Delete Objects: Use the del statement to delete variables and objects explicitly.\n",
    "5. Profile Memory Usage: Use memory profiling tools like tracemalloc and memory_profiler to identify memory leaks and optimize memory usage."
   ]
  },
  {
   "cell_type": "code",
   "execution_count": null,
   "metadata": {},
   "outputs": [
    {
     "name": "stdout",
     "output_type": "stream",
     "text": [
      "Object obj1 created\n",
      "Object obj2 created\n",
      "Object obj1 deleted\n",
      "Object obj2 deleted\n",
      "Object obj1 deleted\n",
      "Object obj2 deleted\n",
      "Object obj1 deleted\n",
      "Object obj2 deleted\n",
      "Object obj1 deleted\n",
      "Object obj2 deleted\n"
     ]
    },
    {
     "data": {
      "text/plain": [
       "47"
      ]
     },
     "execution_count": 10,
     "metadata": {},
     "output_type": "execute_result"
    }
   ],
   "source": [
    "# Handled Circular reference\n",
    "import gc\n",
    "\n",
    "class MyObject:\n",
    "    def __init__(self, name):\n",
    "        self.name = name\n",
    "        print(f\"Object {self.name} created\")\n",
    "\n",
    "    def __del__(self):\n",
    "        print(f\"Object {self.name} deleted\")\n",
    "\n",
    "# Create circular reference\n",
    "obj1 = MyObject(\"obj1\")\n",
    "obj2 = MyObject(\"obj2\")\n",
    "obj1.ref = obj2\n",
    "obj2.ref = obj1\n",
    "\n",
    "del obj1\n",
    "del obj2\n",
    "\n",
    "# Manually trigger the garbage collection\n",
    "gc.collect() # we use this to free up memory because of circular references the garbage collector may not catch\n",
    "\n",
    "# the output should be:\n",
    "# Object obj1 created\n",
    "# Object obj2 created\n",
    "# Object obj1 deleted\n",
    "# Object obj2 deleted\n",
    "\n",
    "\n",
    "# but the about here is because I executed the code without calling gc.collect() for 3 times"
   ]
  },
  {
   "cell_type": "code",
   "execution_count": 14,
   "metadata": {},
   "outputs": [
    {
     "name": "stdout",
     "output_type": "stream",
     "text": [
      "0\n",
      "1\n",
      "2\n",
      "3\n",
      "4\n",
      "5\n",
      "6\n",
      "7\n",
      "8\n",
      "9\n",
      "10\n"
     ]
    }
   ],
   "source": [
    "# Generators For Memory Efficiency\n",
    "# Generators allow you to produce items one at a time, using memory efficiently by only keeping one item in memory at a time.\n",
    "\n",
    "def generate_numbers(n):\n",
    "    for i in range(n):\n",
    "        yield i\n",
    "\n",
    "## using the generator\n",
    "for num in generate_numbers(100000):\n",
    "    if num>10:\n",
    "        break\n",
    "    print(num)"
   ]
  },
  {
   "cell_type": "code",
   "execution_count": null,
   "metadata": {},
   "outputs": [],
   "source": [
    "# Profiling Memory Usage with tracemalloc\n",
    "import tracemalloc\n",
    "\n",
    "def create_list():\n",
    "    return [i for i in range(10000)]\n",
    "\n",
    "def main():\n",
    "    tracemalloc.start()\n",
    "    \n",
    "    create_list()\n",
    "    \n",
    "    snapshot = tracemalloc.take_snapshot()\n",
    "    top_stats = snapshot.statistics('lineno')\n",
    "    \n",
    "    print(\"[ Top 10 ]\")\n",
    "    for stat in top_stats[::]:\n",
    "        print(stat)\n",
    "\n",
    "\n",
    "# Let see what the program does\n",
    "# It tracks memory allocation and helps identify memory leaks\n",
    "# By analyzing the memory usage, we can optimize our code and reduce its memory footprint"
   ]
  },
  {
   "cell_type": "code",
   "execution_count": 16,
   "metadata": {},
   "outputs": [
    {
     "name": "stdout",
     "output_type": "stream",
     "text": [
      "[ Top 10 ]\n",
      "d:\\VS-AIML\\venv\\lib\\json\\decoder.py:353: size=2647 B, count=25, average=106 B\n",
      "d:\\VS-AIML\\venv\\lib\\site-packages\\IPython\\core\\compilerop.py:174: size=2424 B, count=31, average=78 B\n",
      "d:\\VS-AIML\\venv\\lib\\site-packages\\traitlets\\traitlets.py:731: size=2253 B, count=32, average=70 B\n",
      "d:\\VS-AIML\\venv\\lib\\codeop.py:118: size=2156 B, count=27, average=80 B\n",
      "d:\\VS-AIML\\venv\\lib\\site-packages\\zmq\\sugar\\attrsettr.py:45: size=2035 B, count=37, average=55 B\n",
      "d:\\VS-AIML\\venv\\lib\\site-packages\\traitlets\\traitlets.py:1543: size=1972 B, count=29, average=68 B\n",
      "d:\\VS-AIML\\venv\\lib\\site-packages\\jupyter_client\\jsonutil.py:111: size=1334 B, count=23, average=58 B\n",
      "d:\\VS-AIML\\venv\\lib\\site-packages\\jupyter_client\\session.py:95: size=1239 B, count=8, average=155 B\n",
      "d:\\VS-AIML\\venv\\lib\\site-packages\\IPython\\core\\compilerop.py:86: size=1199 B, count=23, average=52 B\n",
      "d:\\VS-AIML\\venv\\lib\\site-packages\\ipykernel\\iostream.py:276: size=1128 B, count=7, average=161 B\n",
      "d:\\VS-AIML\\venv\\lib\\site-packages\\zmq\\sugar\\socket.py:802: size=1056 B, count=6, average=176 B\n",
      "d:\\VS-AIML\\venv\\lib\\site-packages\\jupyter_client\\session.py:1057: size=900 B, count=7, average=129 B\n",
      "d:\\VS-AIML\\venv\\lib\\site-packages\\ipykernel\\iostream.py:287: size=872 B, count=8, average=109 B\n",
      "d:\\VS-AIML\\venv\\lib\\site-packages\\IPython\\core\\history.py:782: size=834 B, count=3, average=278 B\n",
      "d:\\VS-AIML\\venv\\lib\\site-packages\\ipykernel\\iostream.py:346: size=808 B, count=10, average=81 B\n",
      "d:\\VS-AIML\\venv\\lib\\site-packages\\traitlets\\traitlets.py:1514: size=672 B, count=4, average=168 B\n",
      "d:\\VS-AIML\\venv\\lib\\site-packages\\ipykernel\\iostream.py:609: size=632 B, count=1, average=632 B\n",
      "d:\\VS-AIML\\venv\\lib\\inspect.py:2401: size=632 B, count=1, average=632 B\n",
      "C:\\Users\\Shake\\AppData\\Local\\Temp\\ipykernel_4288\\1520375838.py:10: size=632 B, count=1, average=632 B\n",
      "d:\\VS-AIML\\venv\\lib\\tracemalloc.py:533: size=568 B, count=1, average=568 B\n",
      "d:\\VS-AIML\\venv\\lib\\site-packages\\zmq\\sugar\\socket.py:749: size=552 B, count=2, average=276 B\n",
      "d:\\VS-AIML\\venv\\lib\\threading.py:607: size=528 B, count=1, average=528 B\n",
      "C:\\Users\\Shake\\AppData\\Local\\Temp\\ipykernel_4288\\451043146.py:1: size=528 B, count=1, average=528 B\n",
      "C:\\Users\\Shake\\AppData\\Local\\Temp\\ipykernel_4288\\1520375838.py:13: size=448 B, count=1, average=448 B\n",
      "d:\\VS-AIML\\venv\\lib\\site-packages\\jupyter_client\\session.py:1082: size=440 B, count=1, average=440 B\n",
      "d:\\VS-AIML\\venv\\lib\\site-packages\\IPython\\core\\history.py:836: size=424 B, count=6, average=71 B\n",
      "d:\\VS-AIML\\venv\\lib\\tracemalloc.py:560: size=416 B, count=1, average=416 B\n",
      "d:\\VS-AIML\\venv\\lib\\tracemalloc.py:423: size=416 B, count=1, average=416 B\n",
      "C:\\Users\\Shake\\AppData\\Local\\Temp\\ipykernel_4288\\1520375838.py:5: size=416 B, count=1, average=416 B\n",
      "d:\\VS-AIML\\venv\\lib\\inspect.py:156: size=336 B, count=2, average=168 B\n",
      "d:\\VS-AIML\\venv\\lib\\site-packages\\ipykernel\\compiler.py:91: size=331 B, count=3, average=110 B\n",
      "d:\\VS-AIML\\venv\\lib\\site-packages\\jupyter_client\\session.py:1085: size=296 B, count=1, average=296 B\n",
      "d:\\VS-AIML\\venv\\lib\\site-packages\\jupyter_client\\jsonutil.py:75: size=296 B, count=1, average=296 B\n",
      "d:\\VS-AIML\\venv\\lib\\site-packages\\ipykernel\\kernelbase.py:744: size=296 B, count=1, average=296 B\n",
      "d:\\VS-AIML\\venv\\lib\\asyncio\\events.py:80: size=288 B, count=4, average=72 B\n",
      "d:\\VS-AIML\\venv\\lib\\site-packages\\ipykernel\\zmqshell.py:577: size=272 B, count=3, average=91 B\n",
      "d:\\VS-AIML\\venv\\lib\\site-packages\\zmq\\sugar\\socket.py:799: size=240 B, count=3, average=80 B\n",
      "d:\\VS-AIML\\venv\\lib\\site-packages\\IPython\\core\\interactiveshell.py:3106: size=232 B, count=4, average=58 B\n",
      "d:\\VS-AIML\\venv\\lib\\site-packages\\IPython\\core\\interactiveshell.py:259: size=208 B, count=4, average=52 B\n",
      "d:\\VS-AIML\\venv\\lib\\site-packages\\jupyter_client\\session.py:688: size=194 B, count=2, average=97 B\n",
      "d:\\VS-AIML\\venv\\lib\\site-packages\\jupyter_client\\session.py:750: size=192 B, count=2, average=96 B\n",
      "d:\\VS-AIML\\venv\\lib\\asyncio\\base_events.py:773: size=192 B, count=2, average=96 B\n",
      "d:\\VS-AIML\\venv\\lib\\site-packages\\IPython\\core\\history.py:790: size=192 B, count=1, average=192 B\n",
      "d:\\VS-AIML\\venv\\lib\\site-packages\\IPython\\core\\history.py:789: size=192 B, count=1, average=192 B\n",
      "d:\\VS-AIML\\venv\\lib\\site-packages\\ipykernel\\kernelbase.py:1160: size=173 B, count=2, average=86 B\n",
      "d:\\VS-AIML\\venv\\lib\\site-packages\\tornado\\queues.py:248: size=168 B, count=1, average=168 B\n",
      "d:\\VS-AIML\\venv\\lib\\asyncio\\base_events.py:429: size=168 B, count=1, average=168 B\n",
      "d:\\VS-AIML\\venv\\lib\\site-packages\\IPython\\core\\history.py:805: size=159 B, count=3, average=53 B\n",
      "d:\\VS-AIML\\venv\\lib\\site-packages\\zmq\\sugar\\socket.py:748: size=152 B, count=3, average=51 B\n",
      "d:\\VS-AIML\\venv\\lib\\site-packages\\ipykernel\\kernelbase.py:749: size=152 B, count=2, average=76 B\n",
      "d:\\VS-AIML\\venv\\lib\\site-packages\\tornado\\platform\\asyncio.py:241: size=144 B, count=2, average=72 B\n",
      "d:\\VS-AIML\\venv\\lib\\site-packages\\ipykernel\\iostream.py:722: size=144 B, count=2, average=72 B\n",
      "d:\\VS-AIML\\venv\\lib\\site-packages\\IPython\\core\\compilerop.py:171: size=144 B, count=2, average=72 B\n",
      "d:\\VS-AIML\\venv\\lib\\site-packages\\ipykernel\\kernelbase.py:541: size=144 B, count=1, average=144 B\n",
      "d:\\VS-AIML\\venv\\lib\\site-packages\\IPython\\core\\interactiveshell.py:3495: size=144 B, count=1, average=144 B\n",
      "d:\\VS-AIML\\venv\\lib\\site-packages\\IPython\\core\\interactiveshell.py:3239: size=144 B, count=1, average=144 B\n",
      "C:\\Users\\Shake\\AppData\\Local\\Temp\\ipykernel_4288\\375725888.py:4: size=144 B, count=1, average=144 B\n",
      "C:\\Users\\Shake\\AppData\\Local\\Temp\\ipykernel_4288\\1520375838.py:7: size=144 B, count=1, average=144 B\n",
      "C:\\Users\\Shake\\AppData\\Local\\Temp\\ipykernel_4288\\1520375838.py:4: size=144 B, count=1, average=144 B\n",
      "d:\\VS-AIML\\venv\\lib\\site-packages\\ipykernel\\iostream.py:527: size=136 B, count=2, average=68 B\n",
      "d:\\VS-AIML\\venv\\lib\\site-packages\\ipykernel\\ipkernel.py:455: size=128 B, count=2, average=64 B\n",
      "d:\\VS-AIML\\venv\\lib\\site-packages\\ipykernel\\iostream.py:684: size=116 B, count=2, average=58 B\n",
      "d:\\VS-AIML\\venv\\lib\\site-packages\\IPython\\core\\interactiveshell.py:3377: size=112 B, count=2, average=56 B\n",
      "d:\\VS-AIML\\venv\\lib\\site-packages\\ipykernel\\kernelbase.py:516: size=112 B, count=1, average=112 B\n",
      "d:\\VS-AIML\\venv\\lib\\site-packages\\ipykernel\\kernelbase.py:505: size=112 B, count=1, average=112 B\n",
      "d:\\VS-AIML\\venv\\lib\\site-packages\\ipykernel\\kernelbase.py:395: size=112 B, count=1, average=112 B\n",
      "d:\\VS-AIML\\venv\\lib\\site-packages\\ipykernel\\ipkernel.py:368: size=112 B, count=1, average=112 B\n",
      "d:\\VS-AIML\\venv\\lib\\site-packages\\ipykernel\\iostream.py:121: size=112 B, count=1, average=112 B\n",
      "d:\\VS-AIML\\venv\\lib\\site-packages\\IPython\\core\\interactiveshell.py:3519: size=112 B, count=1, average=112 B\n",
      "d:\\VS-AIML\\venv\\lib\\site-packages\\IPython\\core\\interactiveshell.py:3336: size=112 B, count=1, average=112 B\n",
      "d:\\VS-AIML\\venv\\lib\\asyncio\\base_events.py:736: size=112 B, count=1, average=112 B\n",
      "d:\\VS-AIML\\venv\\lib\\site-packages\\jupyter_client\\session.py:989: size=111 B, count=2, average=56 B\n",
      "d:\\VS-AIML\\venv\\lib\\site-packages\\IPython\\core\\interactiveshell.py:3511: size=96 B, count=3, average=32 B\n",
      "d:\\VS-AIML\\venv\\lib\\site-packages\\IPython\\core\\interactiveshell.py:3226: size=96 B, count=2, average=48 B\n",
      "d:\\VS-AIML\\venv\\lib\\site-packages\\IPython\\core\\interactiveshell.py:3225: size=96 B, count=2, average=48 B\n",
      "d:\\VS-AIML\\venv\\lib\\site-packages\\IPython\\core\\async_helpers.py:150: size=88 B, count=1, average=88 B\n",
      "d:\\VS-AIML\\venv\\lib\\site-packages\\IPython\\core\\interactiveshell.py:297: size=80 B, count=2, average=40 B\n",
      "d:\\VS-AIML\\venv\\lib\\site-packages\\IPython\\core\\history.py:851: size=72 B, count=1, average=72 B\n",
      "d:\\VS-AIML\\venv\\lib\\site-packages\\IPython\\core\\history.py:834: size=72 B, count=1, average=72 B\n",
      "d:\\VS-AIML\\venv\\lib\\asyncio\\base_events.py:1893: size=64 B, count=2, average=32 B\n",
      "d:\\VS-AIML\\venv\\lib\\site-packages\\zmq\\sugar\\socket.py:803: size=64 B, count=1, average=64 B\n",
      "d:\\VS-AIML\\venv\\lib\\site-packages\\zmq\\sugar\\socket.py:698: size=64 B, count=1, average=64 B\n",
      "d:\\VS-AIML\\venv\\lib\\site-packages\\traitlets\\traitlets.py:1540: size=64 B, count=1, average=64 B\n",
      "d:\\VS-AIML\\venv\\lib\\site-packages\\jupyter_client\\jsonutil.py:73: size=64 B, count=1, average=64 B\n",
      "d:\\VS-AIML\\venv\\lib\\site-packages\\ipykernel\\kernelbase.py:695: size=64 B, count=1, average=64 B\n",
      "d:\\VS-AIML\\venv\\lib\\site-packages\\ipykernel\\kernelbase.py:534: size=64 B, count=1, average=64 B\n",
      "d:\\VS-AIML\\venv\\lib\\site-packages\\ipykernel\\ipkernel.py:390: size=64 B, count=1, average=64 B\n",
      "d:\\VS-AIML\\venv\\lib\\site-packages\\ipykernel\\ipkernel.py:389: size=64 B, count=1, average=64 B\n",
      "d:\\VS-AIML\\venv\\lib\\site-packages\\ipykernel\\ipkernel.py:300: size=64 B, count=1, average=64 B\n",
      "d:\\VS-AIML\\venv\\lib\\site-packages\\ipykernel\\ipkernel.py:297: size=64 B, count=1, average=64 B\n",
      "d:\\VS-AIML\\venv\\lib\\site-packages\\decorator.py:235: size=64 B, count=1, average=64 B\n",
      "d:\\VS-AIML\\venv\\lib\\site-packages\\IPython\\core\\interactiveshell.py:3568: size=64 B, count=1, average=64 B\n",
      "d:\\VS-AIML\\venv\\lib\\site-packages\\IPython\\core\\interactiveshell.py:3305: size=64 B, count=1, average=64 B\n",
      "d:\\VS-AIML\\venv\\lib\\site-packages\\IPython\\core\\interactiveshell.py:3302: size=64 B, count=1, average=64 B\n",
      "d:\\VS-AIML\\venv\\lib\\site-packages\\IPython\\core\\compilerop.py:172: size=56 B, count=2, average=28 B\n",
      "d:\\VS-AIML\\venv\\lib\\site-packages\\jupyter_client\\session.py:738: size=56 B, count=1, average=56 B\n",
      "d:\\VS-AIML\\venv\\lib\\site-packages\\IPython\\core\\history.py:875: size=56 B, count=1, average=56 B\n",
      "d:\\VS-AIML\\venv\\lib\\site-packages\\IPython\\core\\prefilter.py:317: size=55 B, count=1, average=55 B\n",
      "d:\\VS-AIML\\venv\\lib\\site-packages\\jupyter_client\\session.py:200: size=48 B, count=1, average=48 B\n",
      "d:\\VS-AIML\\venv\\lib\\site-packages\\dateutil\\parser\\isoparser.py:146: size=48 B, count=1, average=48 B\n",
      "d:\\VS-AIML\\venv\\lib\\site-packages\\IPython\\core\\interactiveshell.py:3507: size=48 B, count=1, average=48 B\n",
      "d:\\VS-AIML\\venv\\lib\\site-packages\\IPython\\core\\history.py:835: size=48 B, count=1, average=48 B\n",
      "d:\\VS-AIML\\venv\\lib\\asyncio\\base_events.py:696: size=36 B, count=2, average=18 B\n",
      "d:\\VS-AIML\\venv\\lib\\site-packages\\jupyter_client\\session.py:996: size=32 B, count=1, average=32 B\n",
      "d:\\VS-AIML\\venv\\lib\\site-packages\\ipykernel\\iostream.py:168: size=32 B, count=1, average=32 B\n",
      "d:\\VS-AIML\\venv\\lib\\site-packages\\IPython\\core\\interactiveshell.py:3505: size=32 B, count=1, average=32 B\n",
      "d:\\VS-AIML\\venv\\lib\\site-packages\\IPython\\core\\history.py:793: size=32 B, count=1, average=32 B\n",
      "d:\\VS-AIML\\venv\\lib\\asyncio\\base_events.py:739: size=32 B, count=1, average=32 B\n",
      "d:\\VS-AIML\\venv\\lib\\site-packages\\ipykernel\\iostream.py:637: size=28 B, count=1, average=28 B\n",
      "d:\\VS-AIML\\venv\\lib\\site-packages\\IPython\\core\\compilerop.py:192: size=28 B, count=1, average=28 B\n",
      "d:\\VS-AIML\\venv\\lib\\site-packages\\IPython\\core\\interactiveshell.py:3487: size=8 B, count=1, average=8 B\n"
     ]
    }
   ],
   "source": [
    "main()"
   ]
  }
 ],
 "metadata": {
  "kernelspec": {
   "display_name": "Python 3",
   "language": "python",
   "name": "python3"
  },
  "language_info": {
   "codemirror_mode": {
    "name": "ipython",
    "version": 3
   },
   "file_extension": ".py",
   "mimetype": "text/x-python",
   "name": "python",
   "nbconvert_exporter": "python",
   "pygments_lexer": "ipython3",
   "version": "3.10.18"
  }
 },
 "nbformat": 4,
 "nbformat_minor": 2
}
