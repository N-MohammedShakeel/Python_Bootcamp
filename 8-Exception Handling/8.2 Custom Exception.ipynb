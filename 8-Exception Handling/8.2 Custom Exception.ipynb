{
 "cells": [
  {
   "cell_type": "markdown",
   "id": "77bfbd32",
   "metadata": {},
   "source": [
    "### Custom Exceptions in Python\n",
    "\n",
    "Custom exceptions allow you to define your own error types that can be raised and caught in your code.\n",
    "This is useful for creating more meaningful error messages and handling specific error conditions.\n",
    "You can create a custom exception by subclassing the built-in Exception class."
   ]
  },
  {
   "cell_type": "code",
   "execution_count": 10,
   "id": "e7b46d92",
   "metadata": {},
   "outputs": [],
   "source": [
    "class Error(Exception):\n",
    "    \"\"\"Base class for other exceptions\"\"\"\n",
    "    pass\n",
    "\n",
    "class dobException(Error):\n",
    "    \"\"\"Raised when the input value is not a valid date of birth\"\"\"\n",
    "\n",
    "    def __init__(self, message):\n",
    "        self.message = message\n"
   ]
  },
  {
   "cell_type": "code",
   "execution_count": 11,
   "id": "fb29eb7c",
   "metadata": {},
   "outputs": [
    {
     "name": "stdout",
     "output_type": "stream",
     "text": [
      "Year of birth must be between 1900 and 2023.\n"
     ]
    }
   ],
   "source": [
    "year = int(input(\"Enter your year of birth: \"))\n",
    "\n",
    "try: \n",
    "    if year < 1900 or year > 2023:\n",
    "        raise dobException(\"Year of birth must be between 1900 and 2023.\")\n",
    "    else:\n",
    "        print(f\"Your year of birth is {year}.\")\n",
    "except dobException as e:\n",
    "    print(e)"
   ]
  }
 ],
 "metadata": {
  "kernelspec": {
   "display_name": "Python 3",
   "language": "python",
   "name": "python3"
  },
  "language_info": {
   "codemirror_mode": {
    "name": "ipython",
    "version": 3
   },
   "file_extension": ".py",
   "mimetype": "text/x-python",
   "name": "python",
   "nbconvert_exporter": "python",
   "pygments_lexer": "ipython3",
   "version": "3.10.18"
  }
 },
 "nbformat": 4,
 "nbformat_minor": 5
}
